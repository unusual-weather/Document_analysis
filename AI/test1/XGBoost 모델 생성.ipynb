{
 "cells": [
  {
   "cell_type": "markdown",
   "metadata": {},
   "source": [
    "## 기본적인 세팅"
   ]
  },
  {
   "cell_type": "code",
   "execution_count": 46,
   "metadata": {},
   "outputs": [],
   "source": [
    "import pandas as pd\n",
    "import numpy as np\n",
    "import xgboost as xgb\n",
    "from xgboost import XGBClassifier\n",
    "from sklearn.model_selection import train_test_split\n",
    "from sklearn.metrics import accuracy_score\n",
    "from sklearn.metrics import confusion_matrix, accuracy_score, precision_score, recall_score\n",
    "from sklearn.metrics import f1_score, roc_auc_score\n",
    "import joblib"
   ]
  },
  {
   "cell_type": "markdown",
   "metadata": {},
   "source": [
    "## 데이터셋 불러오기"
   ]
  },
  {
   "cell_type": "code",
   "execution_count": 47,
   "metadata": {},
   "outputs": [],
   "source": [
    "#csv 파일 읽어오기\n",
    "data = pd.read_csv('./one_to_one.csv')\n",
    "data.drop('url', axis=1,inplace=True)\n",
    "data.drop('status_code', axis=1,inplace=True)\n",
    "\n",
    "#XGBoost 내에서 ]와 [를 못 읽는다. 이에 해당을 =+ +=로 각각 수정\n",
    "data.rename(columns={']':'=+'},inplace=True)\n",
    "data.rename(columns={'[':'+='},inplace=True)"
   ]
  },
  {
   "cell_type": "code",
   "execution_count": 48,
   "metadata": {},
   "outputs": [
    {
     "name": "stdout",
     "output_type": "stream",
     "text": [
      "(598, 27) (150, 27) (598,) (150,)\n"
     ]
    }
   ],
   "source": [
    "#X에 모든 피처들에 대한 값을 저장\n",
    "X = data.drop('type', axis=1)\n",
    "#Y에 각 피처에 대한 결과값을 저장\n",
    "y = data['type']\n",
    "\n",
    "# 8:2로 train과 test로 구분\n",
    "X_train, X_test, y_train, y_test = train_test_split(X, y, test_size=0.2, random_state=42)\n",
    "print(X_train.shape, X_test.shape, y_train.shape, y_test.shape)"
   ]
  },
  {
   "cell_type": "markdown",
   "metadata": {},
   "source": [
    "## XGBoost 적용하기"
   ]
  },
  {
   "cell_type": "code",
   "execution_count": 49,
   "metadata": {},
   "outputs": [],
   "source": [
    "#XGBoost에서 처리하기 위한 데이터 세트\n",
    "dtrain = xgb.DMatrix(data = X_train, label = y_train)\n",
    "dtest = xgb.DMatrix(data = X_test, label = y_test)"
   ]
  },
  {
   "cell_type": "code",
   "execution_count": 50,
   "metadata": {},
   "outputs": [],
   "source": [
    "#하이퍼 파라미터 세팅\n",
    "params = {'max_depth': 3,\n",
    "          'eta': 0.1,\n",
    "          'eval_metric':'logloss',\n",
    "          }\n",
    "num_rounds = 400\n",
    "\n",
    "wlist = [(dtrain,'train'),(dtest,'test')]"
   ]
  },
  {
   "cell_type": "code",
   "execution_count": 51,
   "metadata": {},
   "outputs": [
    {
     "name": "stdout",
     "output_type": "stream",
     "text": [
      "[0]\ttrain-logloss:0.59965\ttest-logloss:0.60296\n",
      "[1]\ttrain-logloss:0.52244\ttest-logloss:0.52878\n",
      "[2]\ttrain-logloss:0.45777\ttest-logloss:0.46692\n",
      "[3]\ttrain-logloss:0.40297\ttest-logloss:0.41478\n",
      "[4]\ttrain-logloss:0.35615\ttest-logloss:0.37046\n",
      "[5]\ttrain-logloss:0.31584\ttest-logloss:0.33255\n",
      "[6]\ttrain-logloss:0.28094\ttest-logloss:0.29995\n",
      "[7]\ttrain-logloss:0.25057\ttest-logloss:0.27180\n",
      "[8]\ttrain-logloss:0.22404\ttest-logloss:0.24743\n",
      "[9]\ttrain-logloss:0.20079\ttest-logloss:0.22626\n",
      "[10]\ttrain-logloss:0.18035\ttest-logloss:0.20786\n",
      "[11]\ttrain-logloss:0.16233\ttest-logloss:0.19183\n",
      "[12]\ttrain-logloss:0.14642\ttest-logloss:0.17787\n",
      "[13]\ttrain-logloss:0.13235\ttest-logloss:0.16570\n",
      "[14]\ttrain-logloss:0.11988\ttest-logloss:0.15510\n",
      "[15]\ttrain-logloss:0.10882\ttest-logloss:0.14588\n",
      "[16]\ttrain-logloss:0.09900\ttest-logloss:0.13786\n",
      "[17]\ttrain-logloss:0.09028\ttest-logloss:0.13090\n",
      "[18]\ttrain-logloss:0.08247\ttest-logloss:0.12497\n",
      "[19]\ttrain-logloss:0.07554\ttest-logloss:0.11978\n",
      "[20]\ttrain-logloss:0.06931\ttest-logloss:0.11541\n",
      "[21]\ttrain-logloss:0.06373\ttest-logloss:0.11041\n",
      "[22]\ttrain-logloss:0.05879\ttest-logloss:0.10706\n",
      "[23]\ttrain-logloss:0.05431\ttest-logloss:0.10302\n",
      "[24]\ttrain-logloss:0.05029\ttest-logloss:0.10061\n",
      "[25]\ttrain-logloss:0.04674\ttest-logloss:0.09849\n",
      "[26]\ttrain-logloss:0.04348\ttest-logloss:0.09543\n",
      "[27]\ttrain-logloss:0.03968\ttest-logloss:0.09393\n",
      "[28]\ttrain-logloss:0.03654\ttest-logloss:0.09269\n",
      "[29]\ttrain-logloss:0.03383\ttest-logloss:0.09167\n",
      "[30]\ttrain-logloss:0.03172\ttest-logloss:0.09075\n",
      "[31]\ttrain-logloss:0.02955\ttest-logloss:0.09009\n",
      "[32]\ttrain-logloss:0.02788\ttest-logloss:0.08838\n",
      "[33]\ttrain-logloss:0.02618\ttest-logloss:0.08799\n",
      "[34]\ttrain-logloss:0.02467\ttest-logloss:0.08770\n",
      "[35]\ttrain-logloss:0.02332\ttest-logloss:0.08750\n",
      "[36]\ttrain-logloss:0.02213\ttest-logloss:0.08736\n",
      "[37]\ttrain-logloss:0.02105\ttest-logloss:0.08728\n",
      "[38]\ttrain-logloss:0.02014\ttest-logloss:0.08731\n",
      "[39]\ttrain-logloss:0.01927\ttest-logloss:0.08731\n",
      "[40]\ttrain-logloss:0.01856\ttest-logloss:0.08737\n",
      "[41]\ttrain-logloss:0.01786\ttest-logloss:0.08682\n",
      "[42]\ttrain-logloss:0.01728\ttest-logloss:0.08696\n",
      "[43]\ttrain-logloss:0.01672\ttest-logloss:0.08699\n",
      "[44]\ttrain-logloss:0.01620\ttest-logloss:0.08650\n",
      "[45]\ttrain-logloss:0.01572\ttest-logloss:0.08661\n",
      "[46]\ttrain-logloss:0.01527\ttest-logloss:0.08673\n",
      "[47]\ttrain-logloss:0.01488\ttest-logloss:0.08684\n",
      "[48]\ttrain-logloss:0.01445\ttest-logloss:0.08677\n",
      "[49]\ttrain-logloss:0.01405\ttest-logloss:0.08679\n",
      "[50]\ttrain-logloss:0.01368\ttest-logloss:0.08682\n",
      "[51]\ttrain-logloss:0.01335\ttest-logloss:0.08685\n",
      "[52]\ttrain-logloss:0.01297\ttest-logloss:0.08643\n",
      "[53]\ttrain-logloss:0.01279\ttest-logloss:0.08562\n",
      "[54]\ttrain-logloss:0.01253\ttest-logloss:0.08455\n",
      "[55]\ttrain-logloss:0.01239\ttest-logloss:0.08473\n",
      "[56]\ttrain-logloss:0.01224\ttest-logloss:0.08487\n",
      "[57]\ttrain-logloss:0.01214\ttest-logloss:0.08426\n",
      "[58]\ttrain-logloss:0.01191\ttest-logloss:0.08453\n",
      "[59]\ttrain-logloss:0.01180\ttest-logloss:0.08482\n",
      "[60]\ttrain-logloss:0.01146\ttest-logloss:0.08459\n",
      "[61]\ttrain-logloss:0.01137\ttest-logloss:0.08494\n",
      "[62]\ttrain-logloss:0.01107\ttest-logloss:0.08475\n",
      "[63]\ttrain-logloss:0.01080\ttest-logloss:0.08460\n",
      "[64]\ttrain-logloss:0.01069\ttest-logloss:0.08467\n",
      "[65]\ttrain-logloss:0.01059\ttest-logloss:0.08474\n",
      "[66]\ttrain-logloss:0.01050\ttest-logloss:0.08465\n",
      "[67]\ttrain-logloss:0.01041\ttest-logloss:0.08472\n",
      "[68]\ttrain-logloss:0.01032\ttest-logloss:0.08478\n",
      "[69]\ttrain-logloss:0.01025\ttest-logloss:0.08480\n",
      "[70]\ttrain-logloss:0.01018\ttest-logloss:0.08486\n",
      "[71]\ttrain-logloss:0.01011\ttest-logloss:0.08491\n",
      "[72]\ttrain-logloss:0.01006\ttest-logloss:0.08502\n",
      "[73]\ttrain-logloss:0.01000\ttest-logloss:0.08507\n",
      "[74]\ttrain-logloss:0.00994\ttest-logloss:0.08512\n",
      "[75]\ttrain-logloss:0.00989\ttest-logloss:0.08530\n",
      "[76]\ttrain-logloss:0.00984\ttest-logloss:0.08535\n",
      "[77]\ttrain-logloss:0.00980\ttest-logloss:0.08559\n",
      "[78]\ttrain-logloss:0.00975\ttest-logloss:0.08564\n",
      "[79]\ttrain-logloss:0.00971\ttest-logloss:0.08568\n",
      "[80]\ttrain-logloss:0.00968\ttest-logloss:0.08622\n",
      "[81]\ttrain-logloss:0.00967\ttest-logloss:0.08623\n"
     ]
    }
   ],
   "source": [
    "xgb_model = xgb.train(params = params, dtrain = dtrain, num_boost_round = num_rounds, early_stopping_rounds=25, evals = wlist)"
   ]
  },
  {
   "cell_type": "code",
   "execution_count": 40,
   "metadata": {},
   "outputs": [
    {
     "name": "stdout",
     "output_type": "stream",
     "text": [
      "[ 1.001e+00  0.000e+00  0.000e+00  5.000e-03  4.000e-03  1.001e+00\n",
      " -1.000e-03  2.900e-02  9.920e-01  1.001e+00]\n",
      "예측값 10개만 표시 :  [1, 0, 0, 0, 0, 1, 0, 0, 1, 1]\n",
      "본래의 값 [1. 0. 0. 0. 0. 1. 0. 0. 1. 1.]\n"
     ]
    }
   ],
   "source": [
    "pred_probs = xgb_model.predict(dtest)\n",
    "print(np.round(pred_probs[:10],3))\n",
    "preds = [1 if x> 0.5 else 0 for x in pred_probs]\n",
    "print(\"예측값 10개만 표시 : \", preds[:10])\n",
    "print(\"본래의 값\",dtest.get_label()[:10])"
   ]
  },
  {
   "cell_type": "code",
   "execution_count": 52,
   "metadata": {},
   "outputs": [],
   "source": [
    "def get_clf_eval(y_test, y_pred):\n",
    "    confusion = confusion_matrix(y_test, y_pred)\n",
    "    accuracy = accuracy_score(y_test, y_pred)\n",
    "    precision = precision_score(y_test, y_pred)\n",
    "    recall = recall_score(y_test, y_pred)\n",
    "    F1 = f1_score(y_test, y_pred)\n",
    "    AUC = roc_auc_score(y_test, y_pred)\n",
    "    print('오차행렬:\\n', confusion)\n",
    "    print('\\n정확도: {:.4f}'.format(accuracy))\n",
    "    print('정밀도: {:.4f}'.format(precision))\n",
    "    print('재현율: {:.4f}'.format(recall))\n",
    "    print('F1: {:.4f}'.format(F1))\n",
    "    print('AUC: {:.4f}'.format(AUC))"
   ]
  },
  {
   "cell_type": "code",
   "execution_count": 53,
   "metadata": {},
   "outputs": [
    {
     "name": "stdout",
     "output_type": "stream",
     "text": [
      "오차행렬:\n",
      " [[81  0]\n",
      " [ 3 66]]\n",
      "\n",
      "정확도: 0.9800\n",
      "정밀도: 1.0000\n",
      "재현율: 0.9565\n",
      "F1: 0.9778\n",
      "AUC: 0.9783\n"
     ]
    }
   ],
   "source": [
    "get_clf_eval(y_test, preds)"
   ]
  },
  {
   "cell_type": "code",
   "execution_count": 54,
   "metadata": {},
   "outputs": [
    {
     "data": {
      "text/plain": [
       "27"
      ]
     },
     "execution_count": 54,
     "metadata": {},
     "output_type": "execute_result"
    }
   ],
   "source": [
    "len(X_train.columns)"
   ]
  },
  {
   "cell_type": "code",
   "execution_count": 55,
   "metadata": {},
   "outputs": [],
   "source": [
    "df = xgb.DMatrix(pd.DataFrame([np.zeros(27)],columns = X_train.columns))"
   ]
  },
  {
   "cell_type": "code",
   "execution_count": 56,
   "metadata": {},
   "outputs": [
    {
     "data": {
      "text/plain": [
       "array([0.00461719], dtype=float32)"
      ]
     },
     "execution_count": 56,
     "metadata": {},
     "output_type": "execute_result"
    }
   ],
   "source": [
    "#판단\n",
    "w_pred = xgb_model.predict(df)\n",
    "w_pred"
   ]
  },
  {
   "cell_type": "code",
   "execution_count": 57,
   "metadata": {},
   "outputs": [
    {
     "data": {
      "text/plain": [
       "['./XGBoost_model_2.pkl']"
      ]
     },
     "execution_count": 57,
     "metadata": {},
     "output_type": "execute_result"
    }
   ],
   "source": [
    "joblib.dump(xgb_model,\"./XGBoost_model_2.pkl\")"
   ]
  },
  {
   "cell_type": "code",
   "execution_count": 23,
   "metadata": {},
   "outputs": [
    {
     "data": {
      "text/plain": [
       "Index(['http', 'https', 'www', 'IP', 'short_url', '!', '*', ''', '(', ')', ';',\n",
       "       ':', '@', '&', '=', '+', '$', '\"', ',', '/', '?', '%', '#', '+=', '=+',\n",
       "       'total_len', 'tld_len'],\n",
       "      dtype='object')"
      ]
     },
     "execution_count": 23,
     "metadata": {},
     "output_type": "execute_result"
    }
   ],
   "source": [
    "X_test.columns"
   ]
  },
  {
   "cell_type": "code",
   "execution_count": null,
   "metadata": {},
   "outputs": [],
   "source": []
  }
 ],
 "metadata": {
  "kernelspec": {
   "display_name": "ml",
   "language": "python",
   "name": "python3"
  },
  "language_info": {
   "codemirror_mode": {
    "name": "ipython",
    "version": 3
   },
   "file_extension": ".py",
   "mimetype": "text/x-python",
   "name": "python",
   "nbconvert_exporter": "python",
   "pygments_lexer": "ipython3",
   "version": "3.9.0"
  },
  "orig_nbformat": 4
 },
 "nbformat": 4,
 "nbformat_minor": 2
}
